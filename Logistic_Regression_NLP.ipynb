{
 "cells": [
  {
   "cell_type": "code",
   "execution_count": 9,
   "id": "f68fb410",
   "metadata": {},
   "outputs": [],
   "source": [
    "import pandas as pd\n",
    "import numpy as np\n",
    "from sklearn.linear_model import LogisticRegression\n",
    "from sklearn.model_selection import train_test_split\n",
    "from sklearn.metrics import accuracy_score, f1_score, recall_score, precision_score, classification_report\n",
    "from imblearn.over_sampling import SMOTE\n",
    "from sklearn.preprocessing import LabelEncoder"
   ]
  },
  {
   "cell_type": "code",
   "execution_count": null,
   "id": "4a8e0d93",
   "metadata": {},
   "outputs": [],
   "source": [
    "test_df = pd.read_csv('../datasets/Train_Test_data/NLP_features_Test.csv')"
   ]
  },
  {
   "cell_type": "markdown",
   "id": "ca801650",
   "metadata": {},
   "source": [
    "# Logistic regression model trained on sentiment score"
   ]
  },
  {
   "cell_type": "code",
   "execution_count": 14,
   "id": "c484fdf9",
   "metadata": {},
   "outputs": [
    {
     "name": "stdout",
     "output_type": "stream",
     "text": [
      "              precision    recall  f1-score   support\n",
      "\n",
      "       anger       0.00      0.00      0.00        16\n",
      "        fear       0.00      0.00      0.00         5\n",
      "   happiness       0.31      0.41      0.35        44\n",
      "     neutral       0.34      0.61      0.44        49\n",
      "     sadness       0.00      0.00      0.00         3\n",
      "    surprise       0.00      0.00      0.00        28\n",
      "\n",
      "    accuracy                           0.33       145\n",
      "   macro avg       0.11      0.17      0.13       145\n",
      "weighted avg       0.21      0.33      0.26       145\n",
      "\n"
     ]
    },
    {
     "name": "stderr",
     "output_type": "stream",
     "text": [
      "c:\\Users\\Beheerder\\anaconda3\\envs\\block_c_Y2\\lib\\site-packages\\sklearn\\metrics\\_classification.py:1565: UndefinedMetricWarning: Precision is ill-defined and being set to 0.0 in labels with no predicted samples. Use `zero_division` parameter to control this behavior.\n",
      "  _warn_prf(average, modifier, f\"{metric.capitalize()} is\", len(result))\n",
      "c:\\Users\\Beheerder\\anaconda3\\envs\\block_c_Y2\\lib\\site-packages\\sklearn\\metrics\\_classification.py:1565: UndefinedMetricWarning: Precision is ill-defined and being set to 0.0 in labels with no predicted samples. Use `zero_division` parameter to control this behavior.\n",
      "  _warn_prf(average, modifier, f\"{metric.capitalize()} is\", len(result))\n",
      "c:\\Users\\Beheerder\\anaconda3\\envs\\block_c_Y2\\lib\\site-packages\\sklearn\\metrics\\_classification.py:1565: UndefinedMetricWarning: Precision is ill-defined and being set to 0.0 in labels with no predicted samples. Use `zero_division` parameter to control this behavior.\n",
      "  _warn_prf(average, modifier, f\"{metric.capitalize()} is\", len(result))\n"
     ]
    }
   ],
   "source": [
    "X = np.array(test_df['Sentiment_Score'].values)\n",
    "X = X.reshape(-1, 1)\n",
    "\n",
    "# Replace NaNs with zero\n",
    "X = np.nan_to_num(X, nan=0.0)\n",
    "\n",
    "# Labels\n",
    "y = test_df['Emotion']\n",
    "\n",
    "# Train/test split\n",
    "X_train, X_test, y_train, y_test = train_test_split(X, y, test_size=0.2, random_state=42)\n",
    "\n",
    "# Train model\n",
    "model = LogisticRegression(max_iter=1000, random_state=42)\n",
    "model.fit(X_train, y_train)\n",
    "\n",
    "# Predict\n",
    "predictions = model.predict(X_test)\n",
    "\n",
    "# Evaluation\n",
    "report = classification_report(y_test, predictions)\n",
    "\n",
    "# Output metrics\n",
    "print(report)\n"
   ]
  },
  {
   "cell_type": "markdown",
   "id": "1db659a6",
   "metadata": {},
   "source": [
    "---"
   ]
  },
  {
   "cell_type": "markdown",
   "id": "338e7951",
   "metadata": {},
   "source": [
    "# Second attempt at logistic regression model trained on sentiment score (with class imbalance fix)"
   ]
  },
  {
   "cell_type": "code",
   "execution_count": 19,
   "id": "ef2c7efa",
   "metadata": {},
   "outputs": [
    {
     "name": "stdout",
     "output_type": "stream",
     "text": [
      "Class distribution in y_train before oversampling: Counter({'happiness': 194, 'neutral': 192, 'surprise': 113, 'anger': 32, 'sadness': 30, 'fear': 13, 'disgust': 2})\n",
      "Class distribution in y_train after oversampling: Counter({'anger': 194, 'surprise': 194, 'happiness': 194, 'neutral': 194, 'fear': 194, 'sadness': 194, 'disgust': 194})\n",
      "              precision    recall  f1-score   support\n",
      "\n",
      "       anger       0.00      0.00      0.00        14\n",
      "     disgust       0.00      0.00      0.00         0\n",
      "        fear       0.00      0.00      0.00         4\n",
      "   happiness       0.40      0.43      0.42        49\n",
      "     neutral       0.36      0.59      0.45        44\n",
      "     sadness       0.00      0.00      0.00         0\n",
      "    surprise       0.50      0.03      0.06        34\n",
      "\n",
      "    accuracy                           0.33       145\n",
      "   macro avg       0.18      0.15      0.13       145\n",
      "weighted avg       0.36      0.33      0.29       145\n",
      "\n"
     ]
    },
    {
     "name": "stderr",
     "output_type": "stream",
     "text": [
      "c:\\Users\\Beheerder\\anaconda3\\envs\\block_c_Y2\\lib\\site-packages\\sklearn\\metrics\\_classification.py:1565: UndefinedMetricWarning: Precision is ill-defined and being set to 0.0 in labels with no predicted samples. Use `zero_division` parameter to control this behavior.\n",
      "  _warn_prf(average, modifier, f\"{metric.capitalize()} is\", len(result))\n",
      "c:\\Users\\Beheerder\\anaconda3\\envs\\block_c_Y2\\lib\\site-packages\\sklearn\\metrics\\_classification.py:1565: UndefinedMetricWarning: Recall is ill-defined and being set to 0.0 in labels with no true samples. Use `zero_division` parameter to control this behavior.\n",
      "  _warn_prf(average, modifier, f\"{metric.capitalize()} is\", len(result))\n",
      "c:\\Users\\Beheerder\\anaconda3\\envs\\block_c_Y2\\lib\\site-packages\\sklearn\\metrics\\_classification.py:1565: UndefinedMetricWarning: Precision is ill-defined and being set to 0.0 in labels with no predicted samples. Use `zero_division` parameter to control this behavior.\n",
      "  _warn_prf(average, modifier, f\"{metric.capitalize()} is\", len(result))\n",
      "c:\\Users\\Beheerder\\anaconda3\\envs\\block_c_Y2\\lib\\site-packages\\sklearn\\metrics\\_classification.py:1565: UndefinedMetricWarning: Recall is ill-defined and being set to 0.0 in labels with no true samples. Use `zero_division` parameter to control this behavior.\n",
      "  _warn_prf(average, modifier, f\"{metric.capitalize()} is\", len(result))\n",
      "c:\\Users\\Beheerder\\anaconda3\\envs\\block_c_Y2\\lib\\site-packages\\sklearn\\metrics\\_classification.py:1565: UndefinedMetricWarning: Precision is ill-defined and being set to 0.0 in labels with no predicted samples. Use `zero_division` parameter to control this behavior.\n",
      "  _warn_prf(average, modifier, f\"{metric.capitalize()} is\", len(result))\n",
      "c:\\Users\\Beheerder\\anaconda3\\envs\\block_c_Y2\\lib\\site-packages\\sklearn\\metrics\\_classification.py:1565: UndefinedMetricWarning: Recall is ill-defined and being set to 0.0 in labels with no true samples. Use `zero_division` parameter to control this behavior.\n",
      "  _warn_prf(average, modifier, f\"{metric.capitalize()} is\", len(result))\n"
     ]
    }
   ],
   "source": [
    "from collections import Counter\n",
    "from imblearn.over_sampling import RandomOverSampler\n",
    "\n",
    "# Drop rows with missing values\n",
    "df = test_df[['Sentiment_Score', 'Emotion']].dropna()\n",
    "\n",
    "# Prepare features and labels\n",
    "X = df['Sentiment_Score'].values.reshape(-1, 1)\n",
    "y = df['Emotion']\n",
    "\n",
    "# Train/test split\n",
    "X_train, X_test, y_train, y_test = train_test_split(X, y, test_size=0.2, random_state=42)\n",
    "\n",
    "# Check class distribution in training data\n",
    "print(\"Class distribution in y_train before oversampling:\", Counter(y_train))\n",
    "\n",
    "# Apply Random Over Sampling\n",
    "ros = RandomOverSampler(random_state=42)\n",
    "X_train_resampled, y_train_resampled = ros.fit_resample(X_train, y_train)\n",
    "\n",
    "# Check class distribution after oversampling\n",
    "print(\"Class distribution in y_train after oversampling:\", Counter(y_train_resampled))\n",
    "\n",
    "# Train logistic regression on resampled data\n",
    "model = LogisticRegression(max_iter=1000, random_state=42)\n",
    "model.fit(X_train_resampled, y_train_resampled)\n",
    "\n",
    "# Predict on original test data\n",
    "predictions = model.predict(X_test)\n",
    "\n",
    "# Evaluate model\n",
    "print(classification_report(y_test, predictions))\n"
   ]
  }
 ],
 "metadata": {
  "kernelspec": {
   "display_name": "block_c_Y2",
   "language": "python",
   "name": "python3"
  },
  "language_info": {
   "codemirror_mode": {
    "name": "ipython",
    "version": 3
   },
   "file_extension": ".py",
   "mimetype": "text/x-python",
   "name": "python",
   "nbconvert_exporter": "python",
   "pygments_lexer": "ipython3",
   "version": "3.10.16"
  }
 },
 "nbformat": 4,
 "nbformat_minor": 5
}
