{
 "cells": [
  {
   "cell_type": "code",
   "execution_count": 27,
   "id": "9e52ee58",
   "metadata": {},
   "outputs": [],
   "source": [
    "import pandas as pd\n",
    "import numpy as np\n",
    "from sklearn.linear_model import LogisticRegression\n",
    "from sklearn.model_selection import train_test_split\n",
    "from sklearn.metrics import accuracy_score, f1_score, recall_score, precision_score, classification_report\n",
    "from imblearn.over_sampling import SMOTE\n",
    "from sklearn.preprocessing import LabelEncoder"
   ]
  },
  {
   "cell_type": "code",
   "execution_count": 21,
   "id": "70dc22d9",
   "metadata": {},
   "outputs": [],
   "source": [
    "test_df = pd.read_csv('../task4/NLP_features 2.csv')"
   ]
  },
  {
   "cell_type": "code",
   "execution_count": 22,
   "id": "3bc2892e",
   "metadata": {},
   "outputs": [
    {
     "data": {
      "text/html": [
       "<div>\n",
       "<style scoped>\n",
       "    .dataframe tbody tr th:only-of-type {\n",
       "        vertical-align: middle;\n",
       "    }\n",
       "\n",
       "    .dataframe tbody tr th {\n",
       "        vertical-align: top;\n",
       "    }\n",
       "\n",
       "    .dataframe thead th {\n",
       "        text-align: right;\n",
       "    }\n",
       "</style>\n",
       "<table border=\"1\" class=\"dataframe\">\n",
       "  <thead>\n",
       "    <tr style=\"text-align: right;\">\n",
       "      <th></th>\n",
       "      <th>Sentence</th>\n",
       "      <th>Emotion</th>\n",
       "      <th>POS_tags</th>\n",
       "      <th>TF-IDF</th>\n",
       "      <th>Pretrained_Embeddings</th>\n",
       "      <th>Custom_Embeddings</th>\n",
       "      <th>Sentiment_Score</th>\n",
       "    </tr>\n",
       "  </thead>\n",
       "  <tbody>\n",
       "    <tr>\n",
       "      <th>0</th>\n",
       "      <td>Maar zie het als een compliment, want eigenlij...</td>\n",
       "      <td>happiness</td>\n",
       "      <td>[('Maar', 'CCONJ'), ('zie', 'VERB'), ('het', '...</td>\n",
       "      <td>0.003596</td>\n",
       "      <td>[ 1.26762390e-02  1.73162282e-01  7.43213966e-...</td>\n",
       "      <td>[-0.0084755   0.26464984 -0.05773885  0.017975...</td>\n",
       "      <td>0.2023</td>\n",
       "    </tr>\n",
       "    <tr>\n",
       "      <th>1</th>\n",
       "      <td>zien als de grootste bedreiging voor hun relatie.</td>\n",
       "      <td>fear</td>\n",
       "      <td>[('zien', 'VERB'), ('als', 'SCONJ'), ('de', 'D...</td>\n",
       "      <td>0.002601</td>\n",
       "      <td>[-2.97851562e-02  1.28133133e-01  4.68241386e-...</td>\n",
       "      <td>[-0.01170979  0.2735433  -0.04595882  0.015996...</td>\n",
       "      <td>0.2942</td>\n",
       "    </tr>\n",
       "    <tr>\n",
       "      <th>2</th>\n",
       "      <td>OkÃ©, hier zijn ze, de koppels!</td>\n",
       "      <td>happiness</td>\n",
       "      <td>[('OkÃ', 'PROPN'), ('©', 'PROPN'), (',', 'PUNC...</td>\n",
       "      <td>0.002231</td>\n",
       "      <td>[ 0.02016602  0.1265625   0.09594727 -0.085205...</td>\n",
       "      <td>[-0.02661045  0.25985995 -0.05596739  0.018820...</td>\n",
       "      <td>-0.5719</td>\n",
       "    </tr>\n",
       "    <tr>\n",
       "      <th>3</th>\n",
       "      <td>De koppels zien elkaar een laatste keer terug,...</td>\n",
       "      <td>sadness</td>\n",
       "      <td>[('De', 'DET'), ('koppels', 'NOUN'), ('zien', ...</td>\n",
       "      <td>0.003266</td>\n",
       "      <td>[ 0.01642761  0.07313013  0.01586151 -0.002490...</td>\n",
       "      <td>[-0.01235101  0.2364183  -0.04538872  0.017792...</td>\n",
       "      <td>0.6486</td>\n",
       "    </tr>\n",
       "    <tr>\n",
       "      <th>4</th>\n",
       "      <td>Dat is super zenuwachtig, want je weet niet ho...</td>\n",
       "      <td>fear</td>\n",
       "      <td>[('Dat', 'PRON'), ('is', 'AUX'), ('super', 'NO...</td>\n",
       "      <td>0.002982</td>\n",
       "      <td>[ 1.02195047e-01  1.92493781e-01  2.88835000e-...</td>\n",
       "      <td>[-0.01652984  0.24785426 -0.05721172  0.017966...</td>\n",
       "      <td>0.6369</td>\n",
       "    </tr>\n",
       "  </tbody>\n",
       "</table>\n",
       "</div>"
      ],
      "text/plain": [
       "                                            Sentence    Emotion  \\\n",
       "0  Maar zie het als een compliment, want eigenlij...  happiness   \n",
       "1  zien als de grootste bedreiging voor hun relatie.       fear   \n",
       "2                    OkÃ©, hier zijn ze, de koppels!  happiness   \n",
       "3  De koppels zien elkaar een laatste keer terug,...    sadness   \n",
       "4  Dat is super zenuwachtig, want je weet niet ho...       fear   \n",
       "\n",
       "                                            POS_tags    TF-IDF  \\\n",
       "0  [('Maar', 'CCONJ'), ('zie', 'VERB'), ('het', '...  0.003596   \n",
       "1  [('zien', 'VERB'), ('als', 'SCONJ'), ('de', 'D...  0.002601   \n",
       "2  [('OkÃ', 'PROPN'), ('©', 'PROPN'), (',', 'PUNC...  0.002231   \n",
       "3  [('De', 'DET'), ('koppels', 'NOUN'), ('zien', ...  0.003266   \n",
       "4  [('Dat', 'PRON'), ('is', 'AUX'), ('super', 'NO...  0.002982   \n",
       "\n",
       "                               Pretrained_Embeddings  \\\n",
       "0  [ 1.26762390e-02  1.73162282e-01  7.43213966e-...   \n",
       "1  [-2.97851562e-02  1.28133133e-01  4.68241386e-...   \n",
       "2  [ 0.02016602  0.1265625   0.09594727 -0.085205...   \n",
       "3  [ 0.01642761  0.07313013  0.01586151 -0.002490...   \n",
       "4  [ 1.02195047e-01  1.92493781e-01  2.88835000e-...   \n",
       "\n",
       "                                   Custom_Embeddings  Sentiment_Score  \n",
       "0  [-0.0084755   0.26464984 -0.05773885  0.017975...           0.2023  \n",
       "1  [-0.01170979  0.2735433  -0.04595882  0.015996...           0.2942  \n",
       "2  [-0.02661045  0.25985995 -0.05596739  0.018820...          -0.5719  \n",
       "3  [-0.01235101  0.2364183  -0.04538872  0.017792...           0.6486  \n",
       "4  [-0.01652984  0.24785426 -0.05721172  0.017966...           0.6369  "
      ]
     },
     "execution_count": 22,
     "metadata": {},
     "output_type": "execute_result"
    }
   ],
   "source": [
    "test_df.head()"
   ]
  },
  {
   "cell_type": "markdown",
   "id": "19a65aea",
   "metadata": {},
   "source": [
    "---"
   ]
  },
  {
   "cell_type": "markdown",
   "id": "0648a413",
   "metadata": {},
   "source": [
    "# Logestic Regression Model 1st attempt"
   ]
  },
  {
   "cell_type": "code",
   "execution_count": 23,
   "id": "459a6eae",
   "metadata": {},
   "outputs": [
    {
     "name": "stdout",
     "output_type": "stream",
     "text": [
      "              precision    recall  f1-score   support\n",
      "\n",
      "       anger       0.00      0.00      0.00         8\n",
      "        fear       0.00      0.00      0.00         4\n",
      "   happiness       0.46      0.55      0.50        55\n",
      "     neutral       0.47      0.65      0.54        48\n",
      "     sadness       0.00      0.00      0.00         4\n",
      "    surprise       0.28      0.16      0.20        31\n",
      "\n",
      "    accuracy                           0.44       150\n",
      "   macro avg       0.20      0.23      0.21       150\n",
      "weighted avg       0.38      0.44      0.40       150\n",
      "\n"
     ]
    },
    {
     "name": "stderr",
     "output_type": "stream",
     "text": [
      "c:\\Users\\Beheerder\\anaconda3\\envs\\block_c_Y2\\lib\\site-packages\\sklearn\\metrics\\_classification.py:1565: UndefinedMetricWarning: Precision is ill-defined and being set to 0.0 in labels with no predicted samples. Use `zero_division` parameter to control this behavior.\n",
      "  _warn_prf(average, modifier, f\"{metric.capitalize()} is\", len(result))\n",
      "c:\\Users\\Beheerder\\anaconda3\\envs\\block_c_Y2\\lib\\site-packages\\sklearn\\metrics\\_classification.py:1565: UndefinedMetricWarning: Precision is ill-defined and being set to 0.0 in labels with no predicted samples. Use `zero_division` parameter to control this behavior.\n",
      "  _warn_prf(average, modifier, f\"{metric.capitalize()} is\", len(result))\n",
      "c:\\Users\\Beheerder\\anaconda3\\envs\\block_c_Y2\\lib\\site-packages\\sklearn\\metrics\\_classification.py:1565: UndefinedMetricWarning: Precision is ill-defined and being set to 0.0 in labels with no predicted samples. Use `zero_division` parameter to control this behavior.\n",
      "  _warn_prf(average, modifier, f\"{metric.capitalize()} is\", len(result))\n"
     ]
    }
   ],
   "source": [
    "# Convert string embeddings to NumPy arrays\n",
    "X = test_df['Pretrained_Embeddings'].apply(lambda x: np.fromstring(x.strip('[]'), sep=' ')).tolist()\n",
    "X = np.array(X)\n",
    "\n",
    "# Labels\n",
    "y = test_df['Emotion']\n",
    "\n",
    "# Train/test split\n",
    "X_train, X_test, y_train, y_test = train_test_split(X, y, test_size=0.2, random_state=42)\n",
    "\n",
    "# Train model\n",
    "model = LogisticRegression(max_iter=1000, random_state=42)\n",
    "model.fit(X_train, y_train)\n",
    "\n",
    "# Predict\n",
    "predictions = model.predict(X_test)\n",
    "\n",
    "# Evaluation\n",
    "report = classification_report(y_test, predictions)\n",
    "\n",
    "# Output metrics\n",
    "print(report)\n"
   ]
  },
  {
   "cell_type": "markdown",
   "id": "567c6fa8",
   "metadata": {},
   "source": [
    "---"
   ]
  },
  {
   "cell_type": "markdown",
   "id": "6047425e",
   "metadata": {},
   "source": [
    "# Logestic Regression model second attempt (Applying Smote for class imbalance)"
   ]
  },
  {
   "cell_type": "markdown",
   "id": "1a98d7ee",
   "metadata": {},
   "source": [
    "As seen in the classification report, the model lacks the ability to predict other classes besides neutral, happiness and surprise. This is because of class imbalance. For this itteration I applied SMOTE to fix this class imbalance so that the new model is able to predict all classes instead of just three."
   ]
  },
  {
   "cell_type": "code",
   "execution_count": 24,
   "id": "806b909d",
   "metadata": {},
   "outputs": [
    {
     "name": "stdout",
     "output_type": "stream",
     "text": [
      "              precision    recall  f1-score   support\n",
      "\n",
      "       anger       0.14      0.50      0.22         8\n",
      "        fear       0.09      0.25      0.13         4\n",
      "   happiness       0.59      0.31      0.40        55\n",
      "     neutral       0.58      0.44      0.50        48\n",
      "     sadness       0.09      0.50      0.15         4\n",
      "    surprise       0.13      0.10      0.11        31\n",
      "\n",
      "    accuracy                           0.32       150\n",
      "   macro avg       0.27      0.35      0.25       150\n",
      "weighted avg       0.44      0.32      0.35       150\n",
      "\n"
     ]
    }
   ],
   "source": [
    "smote = SMOTE(random_state=42, k_neighbors=1)  \n",
    "X_train_sm, y_train_sm = smote.fit_resample(X_train, y_train)\n",
    "\n",
    "model = LogisticRegression(max_iter=1000, random_state=42)\n",
    "model.fit(X_train_sm, y_train_sm)\n",
    "\n",
    "predictions = model.predict(X_test)\n",
    "\n",
    "# Evaluation metrics \n",
    "report = classification_report(y_test, predictions)\n",
    "\n",
    "# Output metrics after SMOTE\n",
    "print(report)\n",
    "\n",
    "\n"
   ]
  },
  {
   "cell_type": "markdown",
   "id": "a4933b95",
   "metadata": {},
   "source": [
    "With SMOTE applied all classes are being predicted. The accuracy and F1 score might have dropped but that is because the model is actually trying to guess other classes that are less represented in the dataset. This makes the model less accurate because it has 7 classes to choose from instead of just 3. But it is still not great at correctly predicting those classes. It is better then random guessing, the f1 score for random guessing should be arround 0.14 and it is 0.35 in this model making it better than just randomly guessing emotions."
   ]
  },
  {
   "cell_type": "markdown",
   "id": "2eb87549",
   "metadata": {},
   "source": [
    "---"
   ]
  },
  {
   "cell_type": "code",
   "execution_count": null,
   "id": "abd539e0",
   "metadata": {},
   "outputs": [
    {
     "name": "stdout",
     "output_type": "stream",
     "text": [
      "              precision    recall  f1-score   support\n",
      "\n",
      "       anger       0.14      0.50      0.22         8\n",
      "        fear       0.09      0.25      0.13         4\n",
      "   happiness       0.59      0.31      0.40        55\n",
      "     neutral       0.58      0.44      0.50        48\n",
      "     sadness       0.09      0.50      0.15         4\n",
      "    surprise       0.13      0.10      0.11        31\n",
      "\n",
      "    accuracy                           0.32       150\n",
      "   macro avg       0.27      0.35      0.25       150\n",
      "weighted avg       0.44      0.32      0.35       150\n",
      "\n"
     ]
    }
   ],
   "source": [
    "# Convert string embeddings to NumPy arrays\n",
    "X = test_df['Pretrained_Embeddings'].apply(lambda x: np.fromstring(x.strip('[]'), sep=' ')).tolist()\n",
    "X = np.array(X)\n",
    "\n",
    "# Labels\n",
    "y = test_df['Emotion']\n",
    "\n",
    "# Encode labels\n",
    "le = LabelEncoder()\n",
    "y_encoded = le.fit_transform(y)\n",
    "\n",
    "# Train/test split\n",
    "X_train, X_test, y_train, y_test = train_test_split(X, y_encoded, test_size=0.2, random_state=42)\n",
    "\n",
    "# Apply SMOTE on training data only\n",
    "smote = SMOTE(random_state=42, k_neighbors=1)\n",
    "X_train_sm, y_train_sm = smote.fit_resample(X_train, y_train)\n",
    "\n",
    "# Train model\n",
    "model = LogisticRegression(max_iter=1000, random_state=42)\n",
    "model.fit(X_train_sm, y_train_sm)\n",
    "\n",
    "# Predict on test set\n",
    "predictions = model.predict(X_test)\n",
    "\n",
    "# Decode predicted labels back to original\n",
    "predictions_decoded = le.inverse_transform(predictions)\n",
    "y_test_decoded = le.inverse_transform(y_test)\n",
    "\n",
    "# Evaluation\n",
    "report = classification_report(y_test_decoded, predictions_decoded)\n",
    "print(report)\n"
   ]
  }
 ],
 "metadata": {
  "kernelspec": {
   "display_name": "block_c_Y2",
   "language": "python",
   "name": "python3"
  },
  "language_info": {
   "codemirror_mode": {
    "name": "ipython",
    "version": 3
   },
   "file_extension": ".py",
   "mimetype": "text/x-python",
   "name": "python",
   "nbconvert_exporter": "python",
   "pygments_lexer": "ipython3",
   "version": "3.10.16"
  }
 },
 "nbformat": 4,
 "nbformat_minor": 5
}
