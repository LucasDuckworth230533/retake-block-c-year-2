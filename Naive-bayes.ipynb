{
 "cells": [
  {
   "cell_type": "code",
   "execution_count": null,
   "id": "e2f76be0",
   "metadata": {},
   "outputs": [],
   "source": [
    "import pandas as pd\n",
    "import numpy as np\n",
    "import pandas as pd\n",
    "from sklearn.model_selection import train_test_split, cross_val_score\n",
    "from sklearn.naive_bayes import GaussianNB, MultinomialNB\n",
    "from sklearn.feature_extraction.text import CountVectorizer, TfidfVectorizer\n",
    "from sklearn.metrics import classification_report\n",
    "from imblearn.over_sampling import SMOTE\n",
    "import nltk\n",
    "from nltk.stem import WordNetLemmatizer\n",
    "from nltk.tokenize import word_tokenize\n"
   ]
  },
  {
   "cell_type": "code",
   "execution_count": 57,
   "id": "cc945d4c",
   "metadata": {},
   "outputs": [],
   "source": [
    "test_df = pd.read_csv('../task4/NLP_features 2.csv')\n",
    "train_df = pd.read_csv('../datasets/Train_Test_data/Training_dataset.csv')"
   ]
  },
  {
   "cell_type": "code",
   "execution_count": 58,
   "id": "5411f548",
   "metadata": {},
   "outputs": [
    {
     "name": "stdout",
     "output_type": "stream",
     "text": [
      "Unique labels in train_df: ['surprise' 'sadness' 'disgust' 'fear' 'anger' 'neutral' 'happiness']\n",
      "Unique labels in test_df: ['happiness' 'fear' 'sadness' 'surprise' 'neutral' 'anger' 'disgust']\n"
     ]
    }
   ],
   "source": [
    "# print unique labels\n",
    "print(\"Unique labels in train_df:\", train_df['Emotion'].unique()) \n",
    "# print unique labels\n",
    "print(\"Unique labels in test_df:\", test_df['Emotion'].unique())"
   ]
  },
  {
   "cell_type": "code",
   "execution_count": null,
   "id": "73841d90",
   "metadata": {},
   "outputs": [
    {
     "name": "stdout",
     "output_type": "stream",
     "text": [
      "              precision    recall  f1-score   support\n",
      "\n",
      "       anger       0.07      0.13      0.09        47\n",
      "     disgust       0.01      0.50      0.03         2\n",
      "        fear       0.02      0.18      0.04        17\n",
      "   happiness       0.48      0.30      0.37       250\n",
      "     neutral       0.36      0.15      0.21       255\n",
      "     sadness       0.08      0.35      0.13        31\n",
      "    surprise       0.22      0.09      0.13       147\n",
      "\n",
      "    accuracy                           0.20       749\n",
      "   macro avg       0.18      0.24      0.14       749\n",
      "weighted avg       0.33      0.20      0.23       749\n",
      "\n"
     ]
    }
   ],
   "source": [
    "# Vectorize using training data only\n",
    "vectorizer = CountVectorizer()\n",
    "X_train = vectorizer.fit_transform(train_df['Sentence'])\n",
    "X_test = vectorizer.transform(test_df['Sentence'])\n",
    "\n",
    "# Labels\n",
    "y_train = train_df['Emotion']\n",
    "y_test = test_df['Emotion']\n",
    "\n",
    "# Convert sparse matrices to dense arrays\n",
    "X_train_dense = X_train.toarray()\n",
    "X_test_dense = X_test.toarray()\n",
    "\n",
    "# Train Gaussian Naive Bayes\n",
    "gnb = GaussianNB()\n",
    "y_pred = gnb.fit(X_train_dense, y_train).predict(X_test_dense)\n",
    "\n",
    "# Evaluate the model\n",
    "report = classification_report(y_test, y_pred, target_names=np.unique(y_train))\n",
    "print(report)\n"
   ]
  },
  {
   "cell_type": "markdown",
   "id": "167b4a9f",
   "metadata": {},
   "source": [
    "---"
   ]
  },
  {
   "cell_type": "markdown",
   "id": "5ea625be",
   "metadata": {},
   "source": [
    "# Predictions using multinomial Naive bayes model"
   ]
  },
  {
   "cell_type": "code",
   "execution_count": 60,
   "id": "6aeedb11",
   "metadata": {},
   "outputs": [
    {
     "name": "stdout",
     "output_type": "stream",
     "text": [
      "              precision    recall  f1-score   support\n",
      "\n",
      "       anger       0.00      0.00      0.00        47\n",
      "     disgust       0.00      0.00      0.00         2\n",
      "        fear       0.05      0.24      0.08        17\n",
      "   happiness       0.58      0.35      0.44       250\n",
      "     neutral       0.41      0.32      0.36       255\n",
      "     sadness       0.08      0.42      0.13        31\n",
      "    surprise       0.25      0.24      0.24       147\n",
      "\n",
      "    accuracy                           0.30       749\n",
      "   macro avg       0.19      0.22      0.18       749\n",
      "weighted avg       0.39      0.30      0.32       749\n",
      "\n"
     ]
    }
   ],
   "source": [
    "gnb = MultinomialNB()\n",
    "\n",
    "# Train Multinomial Naive Bayes\n",
    "y_pred = gnb.fit(X_train, y_train).predict(X_test)\n",
    "\n",
    "# Evaluate the model\n",
    "report = classification_report(y_test, y_pred, target_names=np.unique(y))\n",
    "print(report)\n",
    "\n"
   ]
  },
  {
   "cell_type": "markdown",
   "id": "ec00d98b",
   "metadata": {},
   "source": [
    "---"
   ]
  },
  {
   "cell_type": "markdown",
   "id": "b78a6bba",
   "metadata": {},
   "source": [
    "# Predictions using Multinomial and handling class imbalance"
   ]
  },
  {
   "cell_type": "code",
   "execution_count": 61,
   "id": "6f607616",
   "metadata": {},
   "outputs": [
    {
     "name": "stdout",
     "output_type": "stream",
     "text": [
      "              precision    recall  f1-score   support\n",
      "\n",
      "       anger       0.07      0.09      0.08        47\n",
      "     disgust       0.00      0.00      0.00         2\n",
      "        fear       0.04      0.18      0.06        17\n",
      "   happiness       0.54      0.40      0.46       250\n",
      "     neutral       0.35      0.20      0.26       255\n",
      "     sadness       0.07      0.29      0.11        31\n",
      "    surprise       0.25      0.19      0.22       147\n",
      "\n",
      "    accuracy                           0.26       749\n",
      "   macro avg       0.19      0.19      0.17       749\n",
      "weighted avg       0.36      0.26      0.29       749\n",
      "\n"
     ]
    }
   ],
   "source": [
    "# Apply SMOTE on training data\n",
    "smote = SMOTE(random_state=42)\n",
    "X_train_sm, y_train_sm = smote.fit_resample(X_train_dense, y_train)\n",
    "\n",
    "# Train Multinomial Naive Bayes\n",
    "mnb = MultinomialNB()\n",
    "mnb.fit(X_train_sm, y_train_sm)\n",
    "\n",
    "# Predict on test data\n",
    "y_pred = mnb.predict(X_test_dense)\n",
    "\n",
    "# Evaluate the model\n",
    "report = classification_report(y_test, y_pred, target_names=np.unique(y))\n",
    "print(report)"
   ]
  },
  {
   "cell_type": "markdown",
   "id": "f6592531",
   "metadata": {},
   "source": [
    "---"
   ]
  },
  {
   "cell_type": "markdown",
   "id": "15a09e30",
   "metadata": {},
   "source": [
    "# Apply tokenizer to sentences"
   ]
  },
  {
   "cell_type": "code",
   "execution_count": 62,
   "id": "4cda474e",
   "metadata": {},
   "outputs": [
    {
     "name": "stderr",
     "output_type": "stream",
     "text": [
      "[nltk_data] Downloading package punkt to\n",
      "[nltk_data]     C:\\Users\\Beheerder\\AppData\\Roaming\\nltk_data...\n",
      "[nltk_data]   Package punkt is already up-to-date!\n",
      "[nltk_data] Downloading package wordnet to\n",
      "[nltk_data]     C:\\Users\\Beheerder\\AppData\\Roaming\\nltk_data...\n",
      "[nltk_data]   Package wordnet is already up-to-date!\n"
     ]
    },
    {
     "name": "stdout",
     "output_type": "stream",
     "text": [
      "              precision    recall  f1-score   support\n",
      "\n",
      "       anger       0.00      0.00      0.00        47\n",
      "     disgust       0.00      0.00      0.00         2\n",
      "        fear       0.04      0.18      0.06        17\n",
      "   happiness       0.57      0.33      0.42       250\n",
      "     neutral       0.40      0.33      0.36       255\n",
      "     sadness       0.08      0.45      0.14        31\n",
      "    surprise       0.24      0.22      0.23       147\n",
      "\n",
      "    accuracy                           0.29       749\n",
      "   macro avg       0.19      0.22      0.17       749\n",
      "weighted avg       0.38      0.29      0.31       749\n",
      "\n"
     ]
    }
   ],
   "source": [
    "# Apply lemmatizer\n",
    "nltk.download('punkt')\n",
    "nltk.download('wordnet')\n",
    "\n",
    "lemmatizer = WordNetLemmatizer()\n",
    "\n",
    "def lemmatize_text(text):\n",
    "    tokens = word_tokenize(text)\n",
    "    lemmatized_tokens = [lemmatizer.lemmatize(token) for token in tokens]\n",
    "    return ' '.join(lemmatized_tokens)\n",
    "\n",
    "# Apply lemmatization to the training and test data\n",
    "train_df['Lemmatized_Sentence'] = train_df['Sentence'].apply(lemmatize_text)\n",
    "test_df['Lemmatized_Sentence'] = test_df['Sentence'].apply(lemmatize_text)\n",
    "# Vectorize the lemmatized sentences\n",
    "X_train_lemmatized = vectorizer.fit_transform(train_df['Lemmatized_Sentence'])\n",
    "X_test_lemmatized = vectorizer.transform(test_df['Lemmatized_Sentence'])\n",
    "# Train Multinomial Naive Bayes on lemmatized data\n",
    "mnb_lemmatized = MultinomialNB()\n",
    "mnb_lemmatized.fit(X_train_lemmatized, y_train)\n",
    "# Predict on test data with lemmatized sentences\n",
    "y_pred_lemmatized = mnb_lemmatized.predict(X_test_lemmatized)\n",
    "# Evaluate the model with lemmatized sentences\n",
    "report_lemmatized = classification_report(y_test, y_pred_lemmatized, target_names=np.unique(y))\n",
    "print(report_lemmatized)\n"
   ]
  },
  {
   "cell_type": "markdown",
   "id": "a9717bcd",
   "metadata": {},
   "source": [
    "---"
   ]
  },
  {
   "cell_type": "markdown",
   "id": "392b194a",
   "metadata": {},
   "source": [
    "# Apply SMOTE and Lemmatizer"
   ]
  },
  {
   "cell_type": "code",
   "execution_count": 63,
   "id": "13103629",
   "metadata": {},
   "outputs": [
    {
     "name": "stdout",
     "output_type": "stream",
     "text": [
      "              precision    recall  f1-score   support\n",
      "\n",
      "       anger       0.07      0.09      0.08        47\n",
      "     disgust       0.00      0.00      0.00         2\n",
      "        fear       0.03      0.12      0.04        17\n",
      "   happiness       0.53      0.39      0.45       250\n",
      "     neutral       0.36      0.21      0.26       255\n",
      "     sadness       0.08      0.32      0.13        31\n",
      "    surprise       0.23      0.17      0.20       147\n",
      "\n",
      "    accuracy                           0.26       749\n",
      "   macro avg       0.18      0.18      0.16       749\n",
      "weighted avg       0.35      0.26      0.29       749\n",
      "\n"
     ]
    }
   ],
   "source": [
    "# Applying Smote on lemmatized data\n",
    "smote_lemmatized = SMOTE(random_state=42)\n",
    "X_train_lemmatized_sm, y_train_lemmatized_sm = smote_lemmatized.fit_resample(X_train_lemmatized, y_train)\n",
    "# Train Multinomial Naive Bayes on lemmatized data with SMOTE\n",
    "mnb_lemmatized_sm = MultinomialNB()\n",
    "mnb_lemmatized_sm.fit(X_train_lemmatized_sm, y_train_lemmatized_sm)\n",
    "# Predict on test data with lemmatized sentences\n",
    "y_pred_lemmatized_sm = mnb_lemmatized_sm.predict(X_test_lemmatized)\n",
    "# Evaluate the model with lemmatized sentences and SMOTE\n",
    "report_lemmatized_sm = classification_report(y_test, y_pred_lemmatized_sm, target_names=np.unique(y))\n",
    "print(report_lemmatized_sm)"
   ]
  },
  {
   "cell_type": "markdown",
   "id": "b7817bd8",
   "metadata": {},
   "source": [
    "---"
   ]
  },
  {
   "cell_type": "markdown",
   "id": "dfb9b621",
   "metadata": {},
   "source": [
    "# Applied TFIDF"
   ]
  },
  {
   "cell_type": "code",
   "execution_count": 65,
   "id": "08c6f909",
   "metadata": {},
   "outputs": [
    {
     "name": "stdout",
     "output_type": "stream",
     "text": [
      "              precision    recall  f1-score   support\n",
      "\n",
      "       anger       0.00      0.00      0.00        47\n",
      "     disgust       0.00      0.00      0.00         2\n",
      "        fear       0.05      0.24      0.08        17\n",
      "   happiness       0.66      0.28      0.39       250\n",
      "     neutral       0.40      0.40      0.40       255\n",
      "     sadness       0.10      0.52      0.17        31\n",
      "    surprise       0.23      0.23      0.23       147\n",
      "\n",
      "    accuracy                           0.30       749\n",
      "   macro avg       0.21      0.24      0.18       749\n",
      "weighted avg       0.41      0.30      0.32       749\n",
      "\n"
     ]
    },
    {
     "name": "stderr",
     "output_type": "stream",
     "text": [
      "c:\\Users\\Beheerder\\anaconda3\\envs\\block_c_Y2\\lib\\site-packages\\sklearn\\metrics\\_classification.py:1565: UndefinedMetricWarning: Precision is ill-defined and being set to 0.0 in labels with no predicted samples. Use `zero_division` parameter to control this behavior.\n",
      "  _warn_prf(average, modifier, f\"{metric.capitalize()} is\", len(result))\n",
      "c:\\Users\\Beheerder\\anaconda3\\envs\\block_c_Y2\\lib\\site-packages\\sklearn\\metrics\\_classification.py:1565: UndefinedMetricWarning: Precision is ill-defined and being set to 0.0 in labels with no predicted samples. Use `zero_division` parameter to control this behavior.\n",
      "  _warn_prf(average, modifier, f\"{metric.capitalize()} is\", len(result))\n",
      "c:\\Users\\Beheerder\\anaconda3\\envs\\block_c_Y2\\lib\\site-packages\\sklearn\\metrics\\_classification.py:1565: UndefinedMetricWarning: Precision is ill-defined and being set to 0.0 in labels with no predicted samples. Use `zero_division` parameter to control this behavior.\n",
      "  _warn_prf(average, modifier, f\"{metric.capitalize()} is\", len(result))\n"
     ]
    }
   ],
   "source": [
    "# Use TfidfVectorizer instead of CountVectorizer on multinomial Naive Bayes\n",
    "tfidf_vectorizer = TfidfVectorizer()\n",
    "# Vectorize using training data only\n",
    "X_train_tfidf = tfidf_vectorizer.fit_transform(train_df['Sentence'])\n",
    "X_test_tfidf = tfidf_vectorizer.transform(test_df['Sentence'])\n",
    "# Train Multinomial Naive Bayes with TfidfVectorizer\n",
    "mnb_tfidf = MultinomialNB()\n",
    "mnb_tfidf.fit(X_train_tfidf, y_train)\n",
    "# Predict on test data with TfidfVectorizer\n",
    "y_pred_tfidf = mnb_tfidf.predict(X_test_tfidf)\n",
    "# Evaluate the model with TfidfVectorizer\n",
    "report_tfidf = classification_report(y_test, y_pred_tfidf, target_names=np.unique(y))\n",
    "print(report_tfidf)\n",
    "\n"
   ]
  },
  {
   "cell_type": "markdown",
   "id": "60bb11b0",
   "metadata": {},
   "source": [
    "---"
   ]
  }
 ],
 "metadata": {
  "kernelspec": {
   "display_name": "block_c_Y2",
   "language": "python",
   "name": "python3"
  },
  "language_info": {
   "codemirror_mode": {
    "name": "ipython",
    "version": 3
   },
   "file_extension": ".py",
   "mimetype": "text/x-python",
   "name": "python",
   "nbconvert_exporter": "python",
   "pygments_lexer": "ipython3",
   "version": "3.10.16"
  }
 },
 "nbformat": 4,
 "nbformat_minor": 5
}
