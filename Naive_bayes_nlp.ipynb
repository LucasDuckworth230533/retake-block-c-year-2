{
 "cells": [
  {
   "cell_type": "code",
   "execution_count": null,
   "id": "2256bf39",
   "metadata": {},
   "outputs": [],
   "source": [
    "import pandas as pd\n",
    "import numpy as np\n",
    "import pandas as pd\n",
    "from sklearn.model_selection import train_test_split, cross_val_score\n",
    "from sklearn.naive_bayes import GaussianNB, MultinomialNB\n",
    "from sklearn.feature_extraction.text import CountVectorizer, TfidfVectorizer\n",
    "from sklearn.metrics import classification_report\n",
    "from imblearn.over_sampling import SMOTE\n",
    "import nltk\n",
    "from nltk.stem import WordNetLemmatizer\n",
    "from nltk.tokenize import word_tokenize\n",
    "from sklearn.feature_selection import SelectKBest, chi2\n",
    "from sklearn.pipeline import Pipeline\n",
    "from sklearn.model_selection import GridSearchCV\n",
    "\n"
   ]
  },
  {
   "cell_type": "code",
   "execution_count": 10,
   "id": "805bc540",
   "metadata": {},
   "outputs": [],
   "source": [
    "test_df = pd.read_csv('../datasets/Train_Test_data/NLP_features_Test.csv')\n",
    "train_df = pd.read_csv('../datasets/Train_Test_data/NLP_features_Train.csv')"
   ]
  },
  {
   "cell_type": "code",
   "execution_count": 22,
   "id": "64b8a32b",
   "metadata": {},
   "outputs": [],
   "source": [
    "\n",
    "# Ensure TF-IDF columns are arrays\n",
    "train_df['TF-IDF'] = train_df['TF-IDF'].apply(lambda x: x if isinstance(x, (list, np.ndarray)) else [0]*300)\n",
    "test_df['TF-IDF'] = test_df['TF-IDF'].apply(lambda x: x if isinstance(x, (list, np.ndarray)) else [0]*300)\n",
    "\n",
    "# Convert to NumPy arrays\n",
    "X_train = np.vstack(train_df['TF-IDF'].values)\n",
    "X_test = np.vstack(test_df['TF-IDF'].values)\n",
    "\n",
    "# Labels\n",
    "y_train = train_df['Emotion']\n",
    "y_test = test_df['Emotion']\n"
   ]
  },
  {
   "cell_type": "markdown",
   "id": "8c3c080f",
   "metadata": {},
   "source": [
    "---"
   ]
  },
  {
   "cell_type": "markdown",
   "id": "687908c9",
   "metadata": {},
   "source": [
    "# First itteration of Naive Bayes and Multinomial Naive Bayes"
   ]
  },
  {
   "cell_type": "code",
   "execution_count": 12,
   "id": "bbb6e392",
   "metadata": {},
   "outputs": [
    {
     "name": "stdout",
     "output_type": "stream",
     "text": [
      "Multinomial Naive Bayes Report:\n",
      "              precision    recall  f1-score   support\n",
      "\n",
      "       anger       0.00      0.00      0.00        46\n",
      "     disgust       0.00      0.00      0.00         2\n",
      "        fear       0.00      0.00      0.00        17\n",
      "   happiness       0.00      0.00      0.00       243\n",
      "     neutral       0.33      1.00      0.49       237\n",
      "     sadness       0.00      0.00      0.00        30\n",
      "    surprise       0.00      0.00      0.00       147\n",
      "\n",
      "    accuracy                           0.33       722\n",
      "   macro avg       0.05      0.14      0.07       722\n",
      "weighted avg       0.11      0.33      0.16       722\n",
      "\n"
     ]
    },
    {
     "name": "stderr",
     "output_type": "stream",
     "text": [
      "c:\\Users\\Beheerder\\anaconda3\\envs\\block_c_Y2\\lib\\site-packages\\sklearn\\metrics\\_classification.py:1565: UndefinedMetricWarning: Precision is ill-defined and being set to 0.0 in labels with no predicted samples. Use `zero_division` parameter to control this behavior.\n",
      "  _warn_prf(average, modifier, f\"{metric.capitalize()} is\", len(result))\n",
      "c:\\Users\\Beheerder\\anaconda3\\envs\\block_c_Y2\\lib\\site-packages\\sklearn\\metrics\\_classification.py:1565: UndefinedMetricWarning: Precision is ill-defined and being set to 0.0 in labels with no predicted samples. Use `zero_division` parameter to control this behavior.\n",
      "  _warn_prf(average, modifier, f\"{metric.capitalize()} is\", len(result))\n",
      "c:\\Users\\Beheerder\\anaconda3\\envs\\block_c_Y2\\lib\\site-packages\\sklearn\\metrics\\_classification.py:1565: UndefinedMetricWarning: Precision is ill-defined and being set to 0.0 in labels with no predicted samples. Use `zero_division` parameter to control this behavior.\n",
      "  _warn_prf(average, modifier, f\"{metric.capitalize()} is\", len(result))\n"
     ]
    }
   ],
   "source": [
    "# ----------------------\n",
    "# Multinomial Naive Bayes\n",
    "# ----------------------\n",
    "mnb = MultinomialNB()\n",
    "y_pred_mnb = mnb.fit(X_train, y_train).predict(X_test)\n",
    "print(\"Multinomial Naive Bayes Report:\")\n",
    "print(classification_report(y_test, y_pred_mnb, target_names=np.unique(y_train)))"
   ]
  },
  {
   "cell_type": "markdown",
   "id": "600efb41",
   "metadata": {},
   "source": [
    "---"
   ]
  },
  {
   "cell_type": "markdown",
   "id": "c31e769b",
   "metadata": {},
   "source": [
    "# Second itteration with Gridsearch"
   ]
  },
  {
   "cell_type": "code",
   "execution_count": 21,
   "id": "ed2d14a4",
   "metadata": {},
   "outputs": [
    {
     "name": "stdout",
     "output_type": "stream",
     "text": [
      "Best params: {'clf__alpha': 0.1, 'select__k': 'all'}\n",
      "              precision    recall  f1-score   support\n",
      "\n",
      "       anger       0.00      0.00      0.00        46\n",
      "     disgust       0.00      0.00      0.00         2\n",
      "        fear       0.00      0.00      0.00        17\n",
      "   happiness       0.00      0.00      0.00       243\n",
      "     neutral       0.33      1.00      0.49       237\n",
      "     sadness       0.00      0.00      0.00        30\n",
      "    surprise       0.00      0.00      0.00       147\n",
      "\n",
      "    accuracy                           0.33       722\n",
      "   macro avg       0.05      0.14      0.07       722\n",
      "weighted avg       0.11      0.33      0.16       722\n",
      "\n"
     ]
    },
    {
     "name": "stderr",
     "output_type": "stream",
     "text": [
      "c:\\Users\\Beheerder\\anaconda3\\envs\\block_c_Y2\\lib\\site-packages\\sklearn\\metrics\\_classification.py:1565: UndefinedMetricWarning: Precision is ill-defined and being set to 0.0 in labels with no predicted samples. Use `zero_division` parameter to control this behavior.\n",
      "  _warn_prf(average, modifier, f\"{metric.capitalize()} is\", len(result))\n",
      "c:\\Users\\Beheerder\\anaconda3\\envs\\block_c_Y2\\lib\\site-packages\\sklearn\\metrics\\_classification.py:1565: UndefinedMetricWarning: Precision is ill-defined and being set to 0.0 in labels with no predicted samples. Use `zero_division` parameter to control this behavior.\n",
      "  _warn_prf(average, modifier, f\"{metric.capitalize()} is\", len(result))\n",
      "c:\\Users\\Beheerder\\anaconda3\\envs\\block_c_Y2\\lib\\site-packages\\sklearn\\metrics\\_classification.py:1565: UndefinedMetricWarning: Precision is ill-defined and being set to 0.0 in labels with no predicted samples. Use `zero_division` parameter to control this behavior.\n",
      "  _warn_prf(average, modifier, f\"{metric.capitalize()} is\", len(result))\n"
     ]
    }
   ],
   "source": [
    "pipeline = Pipeline([\n",
    "    ('select', SelectKBest(chi2, k=5000)),\n",
    "    ('clf', MultinomialNB())\n",
    "])\n",
    "\n",
    "params = {\n",
    "    'select__k': ['all'],\n",
    "    'clf__alpha': [0.1, 0.5, 1.0]\n",
    "}\n",
    "\n",
    "grid = GridSearchCV(pipeline, params, cv=5, scoring='f1_macro')\n",
    "grid.fit(X_train, y_train)\n",
    "print(\"Best params:\", grid.best_params_)\n",
    "\n",
    "y_pred = grid.predict(X_test)\n",
    "print(classification_report(y_test, y_pred))\n"
   ]
  }
 ],
 "metadata": {
  "kernelspec": {
   "display_name": "block_c_Y2",
   "language": "python",
   "name": "python3"
  },
  "language_info": {
   "codemirror_mode": {
    "name": "ipython",
    "version": 3
   },
   "file_extension": ".py",
   "mimetype": "text/x-python",
   "name": "python",
   "nbconvert_exporter": "python",
   "pygments_lexer": "ipython3",
   "version": "3.10.16"
  }
 },
 "nbformat": 4,
 "nbformat_minor": 5
}
